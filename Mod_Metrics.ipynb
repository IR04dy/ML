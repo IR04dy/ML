{
  "nbformat": 4,
  "nbformat_minor": 0,
  "metadata": {
    "colab": {
      "name": "Mod_Metrics.ipynb",
      "provenance": [],
      "authorship_tag": "ABX9TyNhP9ojJqJQIePwVRAWboUe",
      "include_colab_link": true
    },
    "kernelspec": {
      "name": "python3",
      "display_name": "Python 3"
    },
    "language_info": {
      "name": "python"
    }
  },
  "cells": [
    {
      "cell_type": "markdown",
      "metadata": {
        "id": "view-in-github",
        "colab_type": "text"
      },
      "source": [
        "<a href=\"https://colab.research.google.com/github/IR04dy/ML-models/blob/main/Mod_Metrics.ipynb\" target=\"_parent\"><img src=\"https://colab.research.google.com/assets/colab-badge.svg\" alt=\"Open In Colab\"/></a>"
      ]
    },
    {
      "cell_type": "code",
      "metadata": {
        "colab": {
          "base_uri": "https://localhost:8080/",
          "height": 162
        },
        "id": "BWbCmHCzeW-j",
        "outputId": "a2f14ab1-a60f-42c2-df0f-8d8bda79f6d4"
      },
      "source": [
        "import pandas as pd\n",
        "\n",
        "data = pd.read_csv(\"creditcard.csv\")[:80_000]\n",
        "data.head(3)"
      ],
      "execution_count": 18,
      "outputs": [
        {
          "output_type": "execute_result",
          "data": {
            "text/html": [
              "<div>\n",
              "<style scoped>\n",
              "    .dataframe tbody tr th:only-of-type {\n",
              "        vertical-align: middle;\n",
              "    }\n",
              "\n",
              "    .dataframe tbody tr th {\n",
              "        vertical-align: top;\n",
              "    }\n",
              "\n",
              "    .dataframe thead th {\n",
              "        text-align: right;\n",
              "    }\n",
              "</style>\n",
              "<table border=\"1\" class=\"dataframe\">\n",
              "  <thead>\n",
              "    <tr style=\"text-align: right;\">\n",
              "      <th></th>\n",
              "      <th>Time</th>\n",
              "      <th>V1</th>\n",
              "      <th>V2</th>\n",
              "      <th>V3</th>\n",
              "      <th>V4</th>\n",
              "      <th>V5</th>\n",
              "      <th>V6</th>\n",
              "      <th>V7</th>\n",
              "      <th>V8</th>\n",
              "      <th>V9</th>\n",
              "      <th>V10</th>\n",
              "      <th>V11</th>\n",
              "      <th>V12</th>\n",
              "      <th>V13</th>\n",
              "      <th>V14</th>\n",
              "      <th>V15</th>\n",
              "      <th>V16</th>\n",
              "      <th>V17</th>\n",
              "      <th>V18</th>\n",
              "      <th>V19</th>\n",
              "      <th>V20</th>\n",
              "      <th>V21</th>\n",
              "      <th>V22</th>\n",
              "      <th>V23</th>\n",
              "      <th>V24</th>\n",
              "      <th>V25</th>\n",
              "      <th>V26</th>\n",
              "      <th>V27</th>\n",
              "      <th>V28</th>\n",
              "      <th>Amount</th>\n",
              "      <th>Class</th>\n",
              "    </tr>\n",
              "  </thead>\n",
              "  <tbody>\n",
              "    <tr>\n",
              "      <th>0</th>\n",
              "      <td>0.0</td>\n",
              "      <td>-1.359807</td>\n",
              "      <td>-0.072781</td>\n",
              "      <td>2.536347</td>\n",
              "      <td>1.378155</td>\n",
              "      <td>-0.338321</td>\n",
              "      <td>0.462388</td>\n",
              "      <td>0.239599</td>\n",
              "      <td>0.098698</td>\n",
              "      <td>0.363787</td>\n",
              "      <td>0.090794</td>\n",
              "      <td>-0.551600</td>\n",
              "      <td>-0.617801</td>\n",
              "      <td>-0.991390</td>\n",
              "      <td>-0.311169</td>\n",
              "      <td>1.468177</td>\n",
              "      <td>-0.470401</td>\n",
              "      <td>0.207971</td>\n",
              "      <td>0.025791</td>\n",
              "      <td>0.403993</td>\n",
              "      <td>0.251412</td>\n",
              "      <td>-0.018307</td>\n",
              "      <td>0.277838</td>\n",
              "      <td>-0.110474</td>\n",
              "      <td>0.066928</td>\n",
              "      <td>0.128539</td>\n",
              "      <td>-0.189115</td>\n",
              "      <td>0.133558</td>\n",
              "      <td>-0.021053</td>\n",
              "      <td>149.62</td>\n",
              "      <td>0</td>\n",
              "    </tr>\n",
              "    <tr>\n",
              "      <th>1</th>\n",
              "      <td>0.0</td>\n",
              "      <td>1.191857</td>\n",
              "      <td>0.266151</td>\n",
              "      <td>0.166480</td>\n",
              "      <td>0.448154</td>\n",
              "      <td>0.060018</td>\n",
              "      <td>-0.082361</td>\n",
              "      <td>-0.078803</td>\n",
              "      <td>0.085102</td>\n",
              "      <td>-0.255425</td>\n",
              "      <td>-0.166974</td>\n",
              "      <td>1.612727</td>\n",
              "      <td>1.065235</td>\n",
              "      <td>0.489095</td>\n",
              "      <td>-0.143772</td>\n",
              "      <td>0.635558</td>\n",
              "      <td>0.463917</td>\n",
              "      <td>-0.114805</td>\n",
              "      <td>-0.183361</td>\n",
              "      <td>-0.145783</td>\n",
              "      <td>-0.069083</td>\n",
              "      <td>-0.225775</td>\n",
              "      <td>-0.638672</td>\n",
              "      <td>0.101288</td>\n",
              "      <td>-0.339846</td>\n",
              "      <td>0.167170</td>\n",
              "      <td>0.125895</td>\n",
              "      <td>-0.008983</td>\n",
              "      <td>0.014724</td>\n",
              "      <td>2.69</td>\n",
              "      <td>0</td>\n",
              "    </tr>\n",
              "    <tr>\n",
              "      <th>2</th>\n",
              "      <td>1.0</td>\n",
              "      <td>-1.358354</td>\n",
              "      <td>-1.340163</td>\n",
              "      <td>1.773209</td>\n",
              "      <td>0.379780</td>\n",
              "      <td>-0.503198</td>\n",
              "      <td>1.800499</td>\n",
              "      <td>0.791461</td>\n",
              "      <td>0.247676</td>\n",
              "      <td>-1.514654</td>\n",
              "      <td>0.207643</td>\n",
              "      <td>0.624501</td>\n",
              "      <td>0.066084</td>\n",
              "      <td>0.717293</td>\n",
              "      <td>-0.165946</td>\n",
              "      <td>2.345865</td>\n",
              "      <td>-2.890083</td>\n",
              "      <td>1.109969</td>\n",
              "      <td>-0.121359</td>\n",
              "      <td>-2.261857</td>\n",
              "      <td>0.524980</td>\n",
              "      <td>0.247998</td>\n",
              "      <td>0.771679</td>\n",
              "      <td>0.909412</td>\n",
              "      <td>-0.689281</td>\n",
              "      <td>-0.327642</td>\n",
              "      <td>-0.139097</td>\n",
              "      <td>-0.055353</td>\n",
              "      <td>-0.059752</td>\n",
              "      <td>378.66</td>\n",
              "      <td>0</td>\n",
              "    </tr>\n",
              "  </tbody>\n",
              "</table>\n",
              "</div>"
            ],
            "text/plain": [
              "   Time        V1        V2        V3  ...       V27       V28  Amount  Class\n",
              "0   0.0 -1.359807 -0.072781  2.536347  ...  0.133558 -0.021053  149.62      0\n",
              "1   0.0  1.191857  0.266151  0.166480  ... -0.008983  0.014724    2.69      0\n",
              "2   1.0 -1.358354 -1.340163  1.773209  ... -0.055353 -0.059752  378.66      0\n",
              "\n",
              "[3 rows x 31 columns]"
            ]
          },
          "metadata": {},
          "execution_count": 18
        }
      ]
    },
    {
      "cell_type": "code",
      "metadata": {
        "colab": {
          "base_uri": "https://localhost:8080/",
          "height": 35
        },
        "id": "6nQEVj_iwrLt",
        "outputId": "2a7f5a61-4b2f-4f2c-ee49-30b7cc9f4069"
      },
      "source": [
        "X = data.drop(columns=[\"Time\", \"Amount\", \"Class\"]).values\n",
        "y = data[\"Class\"].values\n",
        "f\"Shapes of X={X.shape} y={y.shape}, #Fraoud cases{y.sum()}\""
      ],
      "execution_count": 21,
      "outputs": [
        {
          "output_type": "execute_result",
          "data": {
            "application/vnd.google.colaboratory.intrinsic+json": {
              "type": "string"
            },
            "text/plain": [
              "'Shapes of X=(80000, 28) y=(80000,), #Fraoud cases196'"
            ]
          },
          "metadata": {},
          "execution_count": 21
        }
      ]
    },
    {
      "cell_type": "code",
      "metadata": {
        "colab": {
          "base_uri": "https://localhost:8080/"
        },
        "id": "xoQs2DZ6zghO",
        "outputId": "086c5f4f-9258-41aa-8796-464311e4837d"
      },
      "source": [
        "from sklearn.linear_model import LogisticRegression\n",
        "\n",
        "mod = LogisticRegression(class_weight = {0:1, 1:2},max_iter=1000)\n",
        "mod.fit(X,y).predict(X).sum()"
      ],
      "execution_count": 49,
      "outputs": [
        {
          "output_type": "execute_result",
          "data": {
            "text/plain": [
              "171"
            ]
          },
          "metadata": {},
          "execution_count": 49
        }
      ]
    },
    {
      "cell_type": "code",
      "metadata": {
        "colab": {
          "base_uri": "https://localhost:8080/"
        },
        "id": "SAqyHubr1pZo",
        "outputId": "52c08934-8562-44a1-8f40-38b9bb9e20d1"
      },
      "source": [
        "from sklearn.model_selection import GridSearchCV\n",
        "\n",
        "gride = GridSearchCV(estimator=LogisticRegression(max_iter=1000),\n",
        "                     param_grid={'class_weight':[{0:1, 1:v} for v in range (1,4)]},\n",
        "                     cv=4, n_jobs=-1)\n",
        "gride.fit(X,y)"
      ],
      "execution_count": 60,
      "outputs": [
        {
          "output_type": "execute_result",
          "data": {
            "text/plain": [
              "GridSearchCV(cv=4, error_score=nan,\n",
              "             estimator=LogisticRegression(C=1.0, class_weight=None, dual=False,\n",
              "                                          fit_intercept=True,\n",
              "                                          intercept_scaling=1, l1_ratio=None,\n",
              "                                          max_iter=1000, multi_class='auto',\n",
              "                                          n_jobs=None, penalty='l2',\n",
              "                                          random_state=None, solver='lbfgs',\n",
              "                                          tol=0.0001, verbose=0,\n",
              "                                          warm_start=False),\n",
              "             iid='deprecated', n_jobs=-1,\n",
              "             param_grid={'class_weight': [{0: 1, 1: 1}, {0: 1, 1: 2},\n",
              "                                          {0: 1, 1: 3}]},\n",
              "             pre_dispatch='2*n_jobs', refit=True, return_train_score=False,\n",
              "             scoring=None, verbose=0)"
            ]
          },
          "metadata": {},
          "execution_count": 60
        }
      ]
    },
    {
      "cell_type": "code",
      "metadata": {
        "colab": {
          "base_uri": "https://localhost:8080/",
          "height": 212
        },
        "id": "eWjm24MD2aia",
        "outputId": "285fe16f-33da-4199-9b26-f57ab2df2a5e"
      },
      "source": [
        "pd.DataFrame(gride.cv_results_)"
      ],
      "execution_count": 62,
      "outputs": [
        {
          "output_type": "execute_result",
          "data": {
            "text/html": [
              "<div>\n",
              "<style scoped>\n",
              "    .dataframe tbody tr th:only-of-type {\n",
              "        vertical-align: middle;\n",
              "    }\n",
              "\n",
              "    .dataframe tbody tr th {\n",
              "        vertical-align: top;\n",
              "    }\n",
              "\n",
              "    .dataframe thead th {\n",
              "        text-align: right;\n",
              "    }\n",
              "</style>\n",
              "<table border=\"1\" class=\"dataframe\">\n",
              "  <thead>\n",
              "    <tr style=\"text-align: right;\">\n",
              "      <th></th>\n",
              "      <th>mean_fit_time</th>\n",
              "      <th>std_fit_time</th>\n",
              "      <th>mean_score_time</th>\n",
              "      <th>std_score_time</th>\n",
              "      <th>param_class_weight</th>\n",
              "      <th>params</th>\n",
              "      <th>split0_test_score</th>\n",
              "      <th>split1_test_score</th>\n",
              "      <th>split2_test_score</th>\n",
              "      <th>split3_test_score</th>\n",
              "      <th>mean_test_score</th>\n",
              "      <th>std_test_score</th>\n",
              "      <th>rank_test_score</th>\n",
              "    </tr>\n",
              "  </thead>\n",
              "  <tbody>\n",
              "    <tr>\n",
              "      <th>0</th>\n",
              "      <td>1.465043</td>\n",
              "      <td>0.292919</td>\n",
              "      <td>0.005003</td>\n",
              "      <td>0.001046</td>\n",
              "      <td>{0: 1, 1: 1}</td>\n",
              "      <td>{'class_weight': {0: 1, 1: 1}}</td>\n",
              "      <td>0.99405</td>\n",
              "      <td>0.99835</td>\n",
              "      <td>0.99945</td>\n",
              "      <td>0.99780</td>\n",
              "      <td>0.997413</td>\n",
              "      <td>0.002030</td>\n",
              "      <td>1</td>\n",
              "    </tr>\n",
              "    <tr>\n",
              "      <th>1</th>\n",
              "      <td>1.362264</td>\n",
              "      <td>0.391003</td>\n",
              "      <td>0.004527</td>\n",
              "      <td>0.000295</td>\n",
              "      <td>{0: 1, 1: 2}</td>\n",
              "      <td>{'class_weight': {0: 1, 1: 2}}</td>\n",
              "      <td>0.99025</td>\n",
              "      <td>0.99840</td>\n",
              "      <td>0.99960</td>\n",
              "      <td>0.99805</td>\n",
              "      <td>0.996575</td>\n",
              "      <td>0.003697</td>\n",
              "      <td>2</td>\n",
              "    </tr>\n",
              "    <tr>\n",
              "      <th>2</th>\n",
              "      <td>1.392871</td>\n",
              "      <td>0.135937</td>\n",
              "      <td>0.004042</td>\n",
              "      <td>0.000737</td>\n",
              "      <td>{0: 1, 1: 3}</td>\n",
              "      <td>{'class_weight': {0: 1, 1: 3}}</td>\n",
              "      <td>0.98730</td>\n",
              "      <td>0.99845</td>\n",
              "      <td>0.99960</td>\n",
              "      <td>0.99815</td>\n",
              "      <td>0.995875</td>\n",
              "      <td>0.004980</td>\n",
              "      <td>3</td>\n",
              "    </tr>\n",
              "  </tbody>\n",
              "</table>\n",
              "</div>"
            ],
            "text/plain": [
              "   mean_fit_time  std_fit_time  ...  std_test_score  rank_test_score\n",
              "0       1.465043      0.292919  ...        0.002030                1\n",
              "1       1.362264      0.391003  ...        0.003697                2\n",
              "2       1.392871      0.135937  ...        0.004980                3\n",
              "\n",
              "[3 rows x 13 columns]"
            ]
          },
          "metadata": {},
          "execution_count": 62
        }
      ]
    },
    {
      "cell_type": "code",
      "metadata": {
        "colab": {
          "base_uri": "https://localhost:8080/"
        },
        "id": "lcMFYZYLWHYL",
        "outputId": "bfc547a7-df17-41a3-bc3b-f490a2d918c7"
      },
      "source": [
        "from sklearn.metrics import precision_score, recall_score\n",
        "\n",
        "recall_score(y, gride.predict(X)),precision_score(y, gride.predict(X))\n",
        "\n",
        "#recall_score: Did i get all the fraud cases? (care about False positive: error increases and will not be affected)\n",
        "#precision_score: given thati predict fraud, how accurate am i? (care about False negative: If the total of fraud is very small, and all of it was reduced, will not be affected)"
      ],
      "execution_count": 71,
      "outputs": [
        {
          "output_type": "execute_result",
          "data": {
            "text/plain": [
              "(0.5918367346938775, 0.7682119205298014)"
            ]
          },
          "metadata": {},
          "execution_count": 71
        }
      ]
    },
    {
      "cell_type": "code",
      "metadata": {
        "id": "ag3IeiqxZyyl"
      },
      "source": [
        "from sklearn.model_selection import GridSearchCV\n",
        "from sklearn.metrics import make_scorer\n",
        "import numpy as np\n",
        "\n",
        "\n",
        "def min_recall_precision(est, X, y_true, sample_weight=None):#sample_weight for add your metrics\n",
        "    y_pred = est.predict(X)\n",
        "    recall = recall_score(y_true, y_pred)\n",
        "    precision = precision_score(y_true, y_pred)\n",
        "    return min(recall, precision)\n",
        "\n",
        "grid = GridSearchCV(\n",
        "    estimator=LogisticRegression(max_iter=1000),\n",
        "    param_grid={'class_weight': [{0: 1, 1: v} for v in np.linspace(1, 20, 30)]},\n",
        "    scoring={'precision': make_scorer(precision_score), \n",
        "             'recall': make_scorer(recall_score),\n",
        "             'min_both': min_recall_precision},\n",
        "    refit='min_both',\n",
        "    return_train_score=True,\n",
        "    cv=10,\n",
        "    n_jobs=-1\n",
        ")\n",
        "grid.fit(X, y, sample_weight=np.log(1 + data[\"Amount\"]));"
      ],
      "execution_count": 104,
      "outputs": []
    },
    {
      "cell_type": "code",
      "metadata": {
        "colab": {
          "base_uri": "https://localhost:8080/",
          "height": 265
        },
        "id": "5NnhyyYrbkBz",
        "outputId": "72f79658-ab52-48c0-e922-5a654eae0555"
      },
      "source": [
        "import matplotlib.pylab as plt\n",
        "plt.figure(figsize=(12, 4))\n",
        "df_results = pd.DataFrame(gride.cv_results_)\n",
        "for score in ['mean_test_recall_score', 'mean_test_precision']:\n",
        "    plt.plot([_[1] for _ in df_results['param_class_weight']], \n",
        "             df_results[score], \n",
        "             label=score)\n",
        "plt.legend();\n",
        "#1.5 class wieght is the best precision\n",
        "#20 class wieght is the best recall\n",
        "#14 class wieght is the best in between"
      ],
      "execution_count": 125,
      "outputs": [
        {
          "output_type": "display_data",
          "data": {
            "image/png": "[encoded data removed]",
            "text/plain": [
              "<Figure size 864x288 with 1 Axes>"
            ]
          },
          "metadata": {
            "needs_background": "light"
          }
        }
      ]
    },
    {
      "cell_type": "code",
      "metadata": {
        "colab": {
          "base_uri": "https://localhost:8080/",
          "height": 265
        },
        "id": "kHpKTdc6hDGP",
        "outputId": "ef211ecf-8300-4a88-b9ae-8663014cdae2"
      },
      "source": [
        "\n",
        "plt.figure(figsize=(12, 4))\n",
        "df_results = pd.DataFrame(grid.cv_results_)\n",
        "for score in ['mean_test_recall', 'mean_test_precision', 'mean_test_min_both']:\n",
        "    plt.plot([_[1] for _ in df_results['param_class_weight']], \n",
        "             df_results[score], \n",
        "             label=score)\n",
        "plt.legend();"
      ],
      "execution_count": 116,
      "outputs": [
        {
          "output_type": "display_data",
          "data": {
            "image/png": "[encoded data removed]",
            "text/plain": [
              "<Figure size 864x288 with 1 Axes>"
            ]
          },
          "metadata": {
            "needs_background": "light"
          }
        }
      ]
    },
    {
      "cell_type": "code",
      "metadata": {
        "colab": {
          "base_uri": "https://localhost:8080/",
          "height": 265
        },
        "id": "AQAZD6vFpxmO",
        "outputId": "fce7debe-e798-47d7-d62d-4d4d66064d1c"
      },
      "source": [
        "plt.figure(figsize=(12, 4))\n",
        "df_results = pd.DataFrame(gride.cv_results_)\n",
        "for score in ['mean_train_recall_score', 'mean_train_precision']:\n",
        "    plt.scatter(x=[_[1] for _ in df_results['param_class_weight']], \n",
        "                y=df_results[score.replace('test', 'train')], \n",
        "                label=score)\n",
        "plt.legend();"
      ],
      "execution_count": 126,
      "outputs": [
        {
          "output_type": "display_data",
          "data": {
            "image/png": "[encoded data removed]",
            "text/plain": [
              "<Figure size 864x288 with 1 Axes>"
            ]
          },
          "metadata": {
            "needs_background": "light"
          }
        }
      ]
    }
  ]
}