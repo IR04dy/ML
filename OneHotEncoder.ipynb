{
  "nbformat": 4,
  "nbformat_minor": 0,
  "metadata": {
    "colab": {
      "name": "OneHotEncoder.ipynb",
      "provenance": [],
      "authorship_tag": "ABX9TyP2tPo9PHm6yr8/J0ciTMIS",
      "include_colab_link": true
    },
    "kernelspec": {
      "name": "python3",
      "display_name": "Python 3"
    },
    "language_info": {
      "name": "python"
    }
  },
  "cells": [
    {
      "cell_type": "markdown",
      "metadata": {
        "id": "view-in-github",
        "colab_type": "text"
      },
      "source": [
        "<a href=\"https://colab.research.google.com/github/IR04dy/ML-models/blob/main/OneHotEncoder.ipynb\" target=\"_parent\"><img src=\"https://colab.research.google.com/assets/colab-badge.svg\" alt=\"Open In Colab\"/></a>"
      ]
    },
    {
      "cell_type": "code",
      "metadata": {
        "id": "6VbgSR4LOkkR"
      },
      "source": [
        "import numpy as np"
      ],
      "execution_count": null,
      "outputs": []
    },
    {
      "cell_type": "code",
      "metadata": {
        "colab": {
          "base_uri": "https://localhost:8080/"
        },
        "id": "aGoY3HAtOmne",
        "outputId": "bc50d412-0536-4709-ea1e-68c245c31011"
      },
      "source": [
        "arr = np.array([\"low\", \"low\", \"high\", \"medium\"]).reshape(-1, 1)\n",
        "arr"
      ],
      "execution_count": null,
      "outputs": [
        {
          "output_type": "execute_result",
          "data": {
            "text/plain": [
              "array([['low'],\n",
              "       ['low'],\n",
              "       ['high'],\n",
              "       ['medium']], dtype='<U6')"
            ]
          },
          "metadata": {},
          "execution_count": 11
        }
      ]
    },
    {
      "cell_type": "code",
      "metadata": {
        "id": "W-SJpxINOqGu"
      },
      "source": [
        "from sklearn.preprocessing import OneHotEncoder"
      ],
      "execution_count": null,
      "outputs": []
    },
    {
      "cell_type": "code",
      "metadata": {
        "colab": {
          "base_uri": "https://localhost:8080/"
        },
        "id": "OAocuzhQOrpc",
        "outputId": "0292f2f7-c14d-4826-e744-a1c460724b4c"
      },
      "source": [
        "enc = OneHotEncoder(sparse=False, handle_unknown='ignore') #handle_unknown for ask about error at transform\n",
        "enc.fit_transform(arr)"
      ],
      "execution_count": null,
      "outputs": [
        {
          "output_type": "execute_result",
          "data": {
            "text/plain": [
              "array([[0., 1., 0.],\n",
              "       [0., 1., 0.],\n",
              "       [1., 0., 0.],\n",
              "       [0., 0., 1.]])"
            ]
          },
          "metadata": {},
          "execution_count": 22
        }
      ]
    },
    {
      "cell_type": "code",
      "metadata": {
        "colab": {
          "base_uri": "https://localhost:8080/"
        },
        "id": "t67bJnqbPK9s",
        "outputId": "cc72a7bc-3444-40f4-cbcd-b408f3ee1837"
      },
      "source": [
        "enc.transform([[\"low\"]])"
      ],
      "execution_count": null,
      "outputs": [
        {
          "output_type": "execute_result",
          "data": {
            "text/plain": [
              "array([[0., 1., 0.]])"
            ]
          },
          "metadata": {},
          "execution_count": 23
        }
      ]
    }
  ]
}