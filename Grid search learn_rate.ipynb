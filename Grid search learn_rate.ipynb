{
  "nbformat": 4,
  "nbformat_minor": 0,
  "metadata": {
    "colab": {
      "provenance": [],
      "authorship_tag": "ABX9TyP0O56Ei6TvacOBQZ0CK1q8",
      "include_colab_link": true
    },
    "kernelspec": {
      "name": "python3",
      "display_name": "Python 3"
    },
    "language_info": {
      "name": "python"
    }
  },
  "cells": [
    {
      "cell_type": "markdown",
      "metadata": {
        "id": "view-in-github",
        "colab_type": "text"
      },
      "source": [
        "<a href=\"https://colab.research.google.com/github/IR04dy/ML/blob/main/Grid%20search%20learn_rate.ipynb\" target=\"_parent\"><img src=\"https://colab.research.google.com/assets/colab-badge.svg\" alt=\"Open In Colab\"/></a>"
      ]
    },
    {
      "cell_type": "code",
      "execution_count": null,
      "metadata": {
        "colab": {
          "base_uri": "https://localhost:8080/"
        },
        "id": "f5UN9eOooAGl",
        "outputId": "39c2d1af-e328-4c09-d5b5-ee4a1bfa89cc"
      },
      "outputs": [
        {
          "output_type": "stream",
          "name": "stderr",
          "text": [
            "/usr/local/lib/python3.7/dist-packages/ipykernel_launcher.py:29: DeprecationWarning: KerasClassifier is deprecated, use Sci-Keras (https://github.com/adriangb/scikeras) instead. See https://www.adriangb.com/scikeras/stable/migration.html for help migrating.\n",
            "/usr/local/lib/python3.7/dist-packages/keras/optimizer_v2/gradient_descent.py:102: UserWarning: The `lr` argument is deprecated, use `learning_rate` instead.\n",
            "  super(SGD, self).__init__(name, **kwargs)\n"
          ]
        },
        {
          "output_type": "stream",
          "name": "stdout",
          "text": [
            "Best: 0.686198 using {'learn_rate': 0.001, 'momentum': 0.4}\n",
            "0.678385 (0.003683) with: {'learn_rate': 0.001, 'momentum': 0.0}\n",
            "0.666667 (0.015733) with: {'learn_rate': 0.001, 'momentum': 0.2}\n",
            "0.686198 (0.020752) with: {'learn_rate': 0.001, 'momentum': 0.4}\n",
            "0.678385 (0.019225) with: {'learn_rate': 0.001, 'momentum': 0.6}\n",
            "0.674479 (0.034401) with: {'learn_rate': 0.001, 'momentum': 0.8}\n",
            "0.664062 (0.017758) with: {'learn_rate': 0.001, 'momentum': 0.9}\n",
            "0.670573 (0.041626) with: {'learn_rate': 0.01, 'momentum': 0.0}\n",
            "0.666667 (0.057084) with: {'learn_rate': 0.01, 'momentum': 0.2}\n",
            "0.643229 (0.026748) with: {'learn_rate': 0.01, 'momentum': 0.4}\n",
            "0.652344 (0.022999) with: {'learn_rate': 0.01, 'momentum': 0.6}\n",
            "0.651042 (0.024774) with: {'learn_rate': 0.01, 'momentum': 0.8}\n",
            "0.651042 (0.024774) with: {'learn_rate': 0.01, 'momentum': 0.9}\n",
            "0.651042 (0.024774) with: {'learn_rate': 0.1, 'momentum': 0.0}\n",
            "0.651042 (0.024774) with: {'learn_rate': 0.1, 'momentum': 0.2}\n",
            "0.651042 (0.024774) with: {'learn_rate': 0.1, 'momentum': 0.4}\n",
            "0.651042 (0.024774) with: {'learn_rate': 0.1, 'momentum': 0.6}\n",
            "0.649740 (0.024360) with: {'learn_rate': 0.1, 'momentum': 0.8}\n",
            "0.651042 (0.024774) with: {'learn_rate': 0.1, 'momentum': 0.9}\n",
            "0.651042 (0.024774) with: {'learn_rate': 0.2, 'momentum': 0.0}\n",
            "0.651042 (0.024774) with: {'learn_rate': 0.2, 'momentum': 0.2}\n",
            "0.651042 (0.024774) with: {'learn_rate': 0.2, 'momentum': 0.4}\n",
            "0.651042 (0.024774) with: {'learn_rate': 0.2, 'momentum': 0.6}\n",
            "0.652344 (0.025315) with: {'learn_rate': 0.2, 'momentum': 0.8}\n",
            "0.651042 (0.024774) with: {'learn_rate': 0.2, 'momentum': 0.9}\n",
            "0.651042 (0.024774) with: {'learn_rate': 0.3, 'momentum': 0.0}\n",
            "0.651042 (0.024774) with: {'learn_rate': 0.3, 'momentum': 0.2}\n",
            "0.651042 (0.024774) with: {'learn_rate': 0.3, 'momentum': 0.4}\n",
            "0.651042 (0.024774) with: {'learn_rate': 0.3, 'momentum': 0.6}\n",
            "0.651042 (0.024774) with: {'learn_rate': 0.3, 'momentum': 0.8}\n",
            "0.651042 (0.024774) with: {'learn_rate': 0.3, 'momentum': 0.9}\n"
          ]
        }
      ],
      "source": [
        "import numpy as np\n",
        "from sklearn.model_selection import GridSearchCV\n",
        "from keras.models import Sequential\n",
        "from keras.layers import Dense\n",
        "from keras.layers import Dropout\n",
        "from keras.wrappers.scikit_learn import KerasClassifier\n",
        "from keras.constraints import maxnorm\n",
        "from tensorflow.keras.optimizers import SGD\n",
        "\n",
        "\n",
        "#only with SGD\n",
        "\n",
        "def create_model(learn_rate=0.01, momentum=0):\n",
        "  model = Sequential()\n",
        "  model.add(Dense(12, input_dim=8, activation='relu'))\n",
        "  model.add(Dense(1, kernel_initializer='uniform', activation='sigmoid'))\n",
        "  optimizer = SGD(lr=learn_rate, momentum=momentum)\n",
        "  model.compile(loss='binary_crossentropy', optimizer=optimizer, metrics=['accuracy'])\n",
        "  return model\n",
        "\n",
        "seed=7\n",
        "np.random.seed(seed)\n",
        "\n",
        "dataset = np.loadtxt(\"/content/pima-indians-diabetes.data.csv\", delimiter=\",\")\n",
        "\n",
        "X = dataset[:,0:8]\n",
        "Y = dataset[:,8]\n",
        "\n",
        "model = KerasClassifier(build_fn=create_model, epochs=100, batch_size=10, verbose=0)\n",
        "learn_rate= [ 0.001, 0.01, 0.1, 0.2, 0.3]\n",
        "momentum= [ 0.0, 0.2, 0.4, 0.6, 0.8, 0.9]\n",
        "\n",
        "param_grid = dict(learn_rate=learn_rate, momentum=momentum)\n",
        "grid = GridSearchCV(estimator=model, param_grid=param_grid, n_jobs=-1, cv=3)\n",
        "grid_result = grid.fit(X, Y)\n",
        "\n",
        "print(\"Best: %f using %s\" % (grid_result.best_score_, grid_result.best_params_))\n",
        "\n",
        "means = grid_result.cv_results_['mean_test_score']\n",
        "stds = grid_result.cv_results_['std_test_score']\n",
        "params = grid_result.cv_results_['params']\n",
        "for mean,stdev, param in zip(means, stds, params):\n",
        "  print(\"%f (%f) with: %r\" % (mean, stdev, param))"
      ]
    }
  ]
}